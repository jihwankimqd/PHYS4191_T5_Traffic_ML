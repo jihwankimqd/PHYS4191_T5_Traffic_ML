{
 "metadata": {
  "language_info": {
   "codemirror_mode": {
    "name": "ipython",
    "version": 3
   },
   "file_extension": ".py",
   "mimetype": "text/x-python",
   "name": "python",
   "nbconvert_exporter": "python",
   "pygments_lexer": "ipython3",
   "version": "3.7.3-final"
  },
  "orig_nbformat": 2,
  "kernelspec": {
   "name": "python3",
   "display_name": "Python 3"
  }
 },
 "nbformat": 4,
 "nbformat_minor": 2,
 "cells": [
  {
   "cell_type": "code",
   "execution_count": 1,
   "metadata": {},
   "outputs": [],
   "source": [
    "import pandas as pd"
   ]
  },
  {
   "cell_type": "code",
   "execution_count": 2,
   "metadata": {},
   "outputs": [],
   "source": [
    "df_jf = pd.read_csv('Raw_data_Jan_Feb.csv')\n",
    "df_mo = pd.read_csv('Raw_data_all_months.csv')"
   ]
  },
  {
   "cell_type": "code",
   "execution_count": 3,
   "metadata": {},
   "outputs": [
    {
     "output_type": "execute_result",
     "data": {
      "text/plain": [
       "   Unnamed: 0   0                    1         2                    3  \\\n",
       "0           0  31  2020-01-02 00:20:30  01F0339S  2020-01-02 00:29:16   \n",
       "1           1  31  2020-01-02 00:03:19  01F0339S  2020-01-02 00:12:14   \n",
       "2           2  31  2020-01-02 00:49:08  01F0339S  2020-01-02 00:59:44   \n",
       "3           3  31  2020-01-02 00:05:12  01F0339S  2020-01-02 00:15:59   \n",
       "4           4  32  2020-01-02 00:51:06  01F0339S  2020-01-02 00:59:41   \n",
       "\n",
       "          4     5  6                                                  7  \n",
       "0  01F0509S  19.4  Y  2020-01-02 00:20:30+01F0339S; 2020-01-02 00:22...  \n",
       "1  01F0509S  19.4  Y  2020-01-02 00:03:19+01F0339S; 2020-01-02 00:05...  \n",
       "2  01F0509S  19.4  Y  2020-01-02 00:49:08+01F0339S; 2020-01-02 00:51...  \n",
       "3  01F0509S  19.4  Y  2020-01-02 00:05:12+01F0339S; 2020-01-02 00:07...  \n",
       "4  01F0509S  19.4  Y  2020-01-02 00:51:06+01F0339S; 2020-01-02 00:53...  "
      ],
      "text/html": "<div>\n<style scoped>\n    .dataframe tbody tr th:only-of-type {\n        vertical-align: middle;\n    }\n\n    .dataframe tbody tr th {\n        vertical-align: top;\n    }\n\n    .dataframe thead th {\n        text-align: right;\n    }\n</style>\n<table border=\"1\" class=\"dataframe\">\n  <thead>\n    <tr style=\"text-align: right;\">\n      <th></th>\n      <th>Unnamed: 0</th>\n      <th>0</th>\n      <th>1</th>\n      <th>2</th>\n      <th>3</th>\n      <th>4</th>\n      <th>5</th>\n      <th>6</th>\n      <th>7</th>\n    </tr>\n  </thead>\n  <tbody>\n    <tr>\n      <th>0</th>\n      <td>0</td>\n      <td>31</td>\n      <td>2020-01-02 00:20:30</td>\n      <td>01F0339S</td>\n      <td>2020-01-02 00:29:16</td>\n      <td>01F0509S</td>\n      <td>19.4</td>\n      <td>Y</td>\n      <td>2020-01-02 00:20:30+01F0339S; 2020-01-02 00:22...</td>\n    </tr>\n    <tr>\n      <th>1</th>\n      <td>1</td>\n      <td>31</td>\n      <td>2020-01-02 00:03:19</td>\n      <td>01F0339S</td>\n      <td>2020-01-02 00:12:14</td>\n      <td>01F0509S</td>\n      <td>19.4</td>\n      <td>Y</td>\n      <td>2020-01-02 00:03:19+01F0339S; 2020-01-02 00:05...</td>\n    </tr>\n    <tr>\n      <th>2</th>\n      <td>2</td>\n      <td>31</td>\n      <td>2020-01-02 00:49:08</td>\n      <td>01F0339S</td>\n      <td>2020-01-02 00:59:44</td>\n      <td>01F0509S</td>\n      <td>19.4</td>\n      <td>Y</td>\n      <td>2020-01-02 00:49:08+01F0339S; 2020-01-02 00:51...</td>\n    </tr>\n    <tr>\n      <th>3</th>\n      <td>3</td>\n      <td>31</td>\n      <td>2020-01-02 00:05:12</td>\n      <td>01F0339S</td>\n      <td>2020-01-02 00:15:59</td>\n      <td>01F0509S</td>\n      <td>19.4</td>\n      <td>Y</td>\n      <td>2020-01-02 00:05:12+01F0339S; 2020-01-02 00:07...</td>\n    </tr>\n    <tr>\n      <th>4</th>\n      <td>4</td>\n      <td>32</td>\n      <td>2020-01-02 00:51:06</td>\n      <td>01F0339S</td>\n      <td>2020-01-02 00:59:41</td>\n      <td>01F0509S</td>\n      <td>19.4</td>\n      <td>Y</td>\n      <td>2020-01-02 00:51:06+01F0339S; 2020-01-02 00:53...</td>\n    </tr>\n  </tbody>\n</table>\n</div>"
     },
     "metadata": {},
     "execution_count": 3
    }
   ],
   "source": [
    "df_jf.head()"
   ]
  },
  {
   "cell_type": "code",
   "execution_count": 4,
   "metadata": {},
   "outputs": [
    {
     "output_type": "execute_result",
     "data": {
      "text/plain": [
       "   Unnamed: 0   0                    1         2                    3  \\\n",
       "0           0  31  2020-03-05 00:31:43  01F0339S  2020-03-05 00:41:17   \n",
       "1           1  32  2020-03-05 00:56:26  01F0339S  2020-03-05 01:06:00   \n",
       "2           2  31  2020-03-05 00:42:38  01F0339S  2020-03-05 00:53:28   \n",
       "3           3  31  2020-03-05 00:13:57  01F0339S  2020-03-05 00:24:57   \n",
       "4           4  31  2020-03-05 00:56:24  01F0339S  2020-03-05 01:03:52   \n",
       "\n",
       "          4     5  6                                                  7  \n",
       "0  01F0509S  19.4  Y  2020-03-05 00:31:43+01F0339S; 2020-03-05 00:33...  \n",
       "1  01F0509S  19.4  Y  2020-03-05 00:56:26+01F0339S; 2020-03-05 00:58...  \n",
       "2  01F0509S  19.4  Y  2020-03-05 00:42:38+01F0339S; 2020-03-05 00:45...  \n",
       "3  01F0509S  19.4  Y  2020-03-05 00:13:57+01F0339S; 2020-03-05 00:16...  \n",
       "4  01F0509S  19.4  Y  2020-03-05 00:56:24+01F0339S; 2020-03-05 00:58...  "
      ],
      "text/html": "<div>\n<style scoped>\n    .dataframe tbody tr th:only-of-type {\n        vertical-align: middle;\n    }\n\n    .dataframe tbody tr th {\n        vertical-align: top;\n    }\n\n    .dataframe thead th {\n        text-align: right;\n    }\n</style>\n<table border=\"1\" class=\"dataframe\">\n  <thead>\n    <tr style=\"text-align: right;\">\n      <th></th>\n      <th>Unnamed: 0</th>\n      <th>0</th>\n      <th>1</th>\n      <th>2</th>\n      <th>3</th>\n      <th>4</th>\n      <th>5</th>\n      <th>6</th>\n      <th>7</th>\n    </tr>\n  </thead>\n  <tbody>\n    <tr>\n      <th>0</th>\n      <td>0</td>\n      <td>31</td>\n      <td>2020-03-05 00:31:43</td>\n      <td>01F0339S</td>\n      <td>2020-03-05 00:41:17</td>\n      <td>01F0509S</td>\n      <td>19.4</td>\n      <td>Y</td>\n      <td>2020-03-05 00:31:43+01F0339S; 2020-03-05 00:33...</td>\n    </tr>\n    <tr>\n      <th>1</th>\n      <td>1</td>\n      <td>32</td>\n      <td>2020-03-05 00:56:26</td>\n      <td>01F0339S</td>\n      <td>2020-03-05 01:06:00</td>\n      <td>01F0509S</td>\n      <td>19.4</td>\n      <td>Y</td>\n      <td>2020-03-05 00:56:26+01F0339S; 2020-03-05 00:58...</td>\n    </tr>\n    <tr>\n      <th>2</th>\n      <td>2</td>\n      <td>31</td>\n      <td>2020-03-05 00:42:38</td>\n      <td>01F0339S</td>\n      <td>2020-03-05 00:53:28</td>\n      <td>01F0509S</td>\n      <td>19.4</td>\n      <td>Y</td>\n      <td>2020-03-05 00:42:38+01F0339S; 2020-03-05 00:45...</td>\n    </tr>\n    <tr>\n      <th>3</th>\n      <td>3</td>\n      <td>31</td>\n      <td>2020-03-05 00:13:57</td>\n      <td>01F0339S</td>\n      <td>2020-03-05 00:24:57</td>\n      <td>01F0509S</td>\n      <td>19.4</td>\n      <td>Y</td>\n      <td>2020-03-05 00:13:57+01F0339S; 2020-03-05 00:16...</td>\n    </tr>\n    <tr>\n      <th>4</th>\n      <td>4</td>\n      <td>31</td>\n      <td>2020-03-05 00:56:24</td>\n      <td>01F0339S</td>\n      <td>2020-03-05 01:03:52</td>\n      <td>01F0509S</td>\n      <td>19.4</td>\n      <td>Y</td>\n      <td>2020-03-05 00:56:24+01F0339S; 2020-03-05 00:58...</td>\n    </tr>\n  </tbody>\n</table>\n</div>"
     },
     "metadata": {},
     "execution_count": 4
    }
   ],
   "source": [
    "df_mo.head()"
   ]
  },
  {
   "cell_type": "code",
   "execution_count": 11,
   "metadata": {},
   "outputs": [],
   "source": [
    "df = pd.concat([df_jf,df_mo])"
   ]
  },
  {
   "cell_type": "code",
   "execution_count": 12,
   "metadata": {},
   "outputs": [
    {
     "output_type": "execute_result",
     "data": {
      "text/plain": [
       "   Unnamed: 0   0                    1         2                    3  \\\n",
       "0           0  31  2020-01-02 00:20:30  01F0339S  2020-01-02 00:29:16   \n",
       "1           1  31  2020-01-02 00:03:19  01F0339S  2020-01-02 00:12:14   \n",
       "2           2  31  2020-01-02 00:49:08  01F0339S  2020-01-02 00:59:44   \n",
       "3           3  31  2020-01-02 00:05:12  01F0339S  2020-01-02 00:15:59   \n",
       "4           4  32  2020-01-02 00:51:06  01F0339S  2020-01-02 00:59:41   \n",
       "\n",
       "          4     5  6                                                  7  \n",
       "0  01F0509S  19.4  Y  2020-01-02 00:20:30+01F0339S; 2020-01-02 00:22...  \n",
       "1  01F0509S  19.4  Y  2020-01-02 00:03:19+01F0339S; 2020-01-02 00:05...  \n",
       "2  01F0509S  19.4  Y  2020-01-02 00:49:08+01F0339S; 2020-01-02 00:51...  \n",
       "3  01F0509S  19.4  Y  2020-01-02 00:05:12+01F0339S; 2020-01-02 00:07...  \n",
       "4  01F0509S  19.4  Y  2020-01-02 00:51:06+01F0339S; 2020-01-02 00:53...  "
      ],
      "text/html": "<div>\n<style scoped>\n    .dataframe tbody tr th:only-of-type {\n        vertical-align: middle;\n    }\n\n    .dataframe tbody tr th {\n        vertical-align: top;\n    }\n\n    .dataframe thead th {\n        text-align: right;\n    }\n</style>\n<table border=\"1\" class=\"dataframe\">\n  <thead>\n    <tr style=\"text-align: right;\">\n      <th></th>\n      <th>Unnamed: 0</th>\n      <th>0</th>\n      <th>1</th>\n      <th>2</th>\n      <th>3</th>\n      <th>4</th>\n      <th>5</th>\n      <th>6</th>\n      <th>7</th>\n    </tr>\n  </thead>\n  <tbody>\n    <tr>\n      <th>0</th>\n      <td>0</td>\n      <td>31</td>\n      <td>2020-01-02 00:20:30</td>\n      <td>01F0339S</td>\n      <td>2020-01-02 00:29:16</td>\n      <td>01F0509S</td>\n      <td>19.4</td>\n      <td>Y</td>\n      <td>2020-01-02 00:20:30+01F0339S; 2020-01-02 00:22...</td>\n    </tr>\n    <tr>\n      <th>1</th>\n      <td>1</td>\n      <td>31</td>\n      <td>2020-01-02 00:03:19</td>\n      <td>01F0339S</td>\n      <td>2020-01-02 00:12:14</td>\n      <td>01F0509S</td>\n      <td>19.4</td>\n      <td>Y</td>\n      <td>2020-01-02 00:03:19+01F0339S; 2020-01-02 00:05...</td>\n    </tr>\n    <tr>\n      <th>2</th>\n      <td>2</td>\n      <td>31</td>\n      <td>2020-01-02 00:49:08</td>\n      <td>01F0339S</td>\n      <td>2020-01-02 00:59:44</td>\n      <td>01F0509S</td>\n      <td>19.4</td>\n      <td>Y</td>\n      <td>2020-01-02 00:49:08+01F0339S; 2020-01-02 00:51...</td>\n    </tr>\n    <tr>\n      <th>3</th>\n      <td>3</td>\n      <td>31</td>\n      <td>2020-01-02 00:05:12</td>\n      <td>01F0339S</td>\n      <td>2020-01-02 00:15:59</td>\n      <td>01F0509S</td>\n      <td>19.4</td>\n      <td>Y</td>\n      <td>2020-01-02 00:05:12+01F0339S; 2020-01-02 00:07...</td>\n    </tr>\n    <tr>\n      <th>4</th>\n      <td>4</td>\n      <td>32</td>\n      <td>2020-01-02 00:51:06</td>\n      <td>01F0339S</td>\n      <td>2020-01-02 00:59:41</td>\n      <td>01F0509S</td>\n      <td>19.4</td>\n      <td>Y</td>\n      <td>2020-01-02 00:51:06+01F0339S; 2020-01-02 00:53...</td>\n    </tr>\n  </tbody>\n</table>\n</div>"
     },
     "metadata": {},
     "execution_count": 12
    }
   ],
   "source": [
    "df.head()"
   ]
  },
  {
   "cell_type": "code",
   "execution_count": 13,
   "metadata": {},
   "outputs": [
    {
     "output_type": "execute_result",
     "data": {
      "text/plain": [
       "       Unnamed: 0   0                    1         2                    3  \\\n",
       "91679       91679  42  2020-09-24 23:12:01  01F0339S  2020-09-24 23:32:13   \n",
       "91680       91680  32  2020-09-24 23:32:45  01F0339S  2020-09-24 23:43:58   \n",
       "91681       91681  31  2020-09-24 23:02:18  01F0339S  2020-09-24 23:11:31   \n",
       "91682       91682  32  2020-09-24 23:35:09  01F0339S  2020-09-24 23:49:48   \n",
       "91683       91683  31  2020-09-24 23:12:39  01F0339S  2020-09-24 23:24:23   \n",
       "\n",
       "              4     5  6                                                  7  \n",
       "91679  01F0509S  19.4  Y  2020-09-24 23:12:01+01F0339S; 2020-09-24 23:14...  \n",
       "91680  01F0509S  19.4  Y  2020-09-24 23:32:45+01F0339S; 2020-09-24 23:35...  \n",
       "91681  01F0509S  19.4  Y  2020-09-24 23:02:18+01F0339S; 2020-09-24 23:04...  \n",
       "91682  01F0509S  19.4  Y  2020-09-24 23:35:09+01F0339S; 2020-09-24 23:38...  \n",
       "91683  01F0509S  19.4  Y  2020-09-24 23:12:39+01F0339S; 2020-09-24 23:15...  "
      ],
      "text/html": "<div>\n<style scoped>\n    .dataframe tbody tr th:only-of-type {\n        vertical-align: middle;\n    }\n\n    .dataframe tbody tr th {\n        vertical-align: top;\n    }\n\n    .dataframe thead th {\n        text-align: right;\n    }\n</style>\n<table border=\"1\" class=\"dataframe\">\n  <thead>\n    <tr style=\"text-align: right;\">\n      <th></th>\n      <th>Unnamed: 0</th>\n      <th>0</th>\n      <th>1</th>\n      <th>2</th>\n      <th>3</th>\n      <th>4</th>\n      <th>5</th>\n      <th>6</th>\n      <th>7</th>\n    </tr>\n  </thead>\n  <tbody>\n    <tr>\n      <th>91679</th>\n      <td>91679</td>\n      <td>42</td>\n      <td>2020-09-24 23:12:01</td>\n      <td>01F0339S</td>\n      <td>2020-09-24 23:32:13</td>\n      <td>01F0509S</td>\n      <td>19.4</td>\n      <td>Y</td>\n      <td>2020-09-24 23:12:01+01F0339S; 2020-09-24 23:14...</td>\n    </tr>\n    <tr>\n      <th>91680</th>\n      <td>91680</td>\n      <td>32</td>\n      <td>2020-09-24 23:32:45</td>\n      <td>01F0339S</td>\n      <td>2020-09-24 23:43:58</td>\n      <td>01F0509S</td>\n      <td>19.4</td>\n      <td>Y</td>\n      <td>2020-09-24 23:32:45+01F0339S; 2020-09-24 23:35...</td>\n    </tr>\n    <tr>\n      <th>91681</th>\n      <td>91681</td>\n      <td>31</td>\n      <td>2020-09-24 23:02:18</td>\n      <td>01F0339S</td>\n      <td>2020-09-24 23:11:31</td>\n      <td>01F0509S</td>\n      <td>19.4</td>\n      <td>Y</td>\n      <td>2020-09-24 23:02:18+01F0339S; 2020-09-24 23:04...</td>\n    </tr>\n    <tr>\n      <th>91682</th>\n      <td>91682</td>\n      <td>32</td>\n      <td>2020-09-24 23:35:09</td>\n      <td>01F0339S</td>\n      <td>2020-09-24 23:49:48</td>\n      <td>01F0509S</td>\n      <td>19.4</td>\n      <td>Y</td>\n      <td>2020-09-24 23:35:09+01F0339S; 2020-09-24 23:38...</td>\n    </tr>\n    <tr>\n      <th>91683</th>\n      <td>91683</td>\n      <td>31</td>\n      <td>2020-09-24 23:12:39</td>\n      <td>01F0339S</td>\n      <td>2020-09-24 23:24:23</td>\n      <td>01F0509S</td>\n      <td>19.4</td>\n      <td>Y</td>\n      <td>2020-09-24 23:12:39+01F0339S; 2020-09-24 23:15...</td>\n    </tr>\n  </tbody>\n</table>\n</div>"
     },
     "metadata": {},
     "execution_count": 13
    }
   ],
   "source": [
    "df.tail()"
   ]
  },
  {
   "cell_type": "code",
   "execution_count": 17,
   "metadata": {},
   "outputs": [],
   "source": [
    "df.sort_values(by=['1'], inplace=True, ascending=True)"
   ]
  },
  {
   "cell_type": "code",
   "execution_count": 19,
   "metadata": {},
   "outputs": [
    {
     "output_type": "execute_result",
     "data": {
      "text/plain": [
       "    Unnamed: 0   0                    1         2                    3  \\\n",
       "5            5  31  2020-01-02 00:00:22  01F0339S  2020-01-02 00:12:19   \n",
       "30          30  31  2020-01-02 00:01:31  01F0339S  2020-01-02 00:11:50   \n",
       "8            8  31  2020-01-02 00:01:33  01F0339S  2020-01-02 00:10:58   \n",
       "11          11  42  2020-01-02 00:03:02  01F0339S  2020-01-02 00:12:20   \n",
       "36          36  31  2020-01-02 00:03:12  01F0339S  2020-01-02 00:10:19   \n",
       "\n",
       "           4     5  6                                                  7  \n",
       "5   01F0509S  19.4  Y  2020-01-02 00:00:22+01F0339S; 2020-01-02 00:03...  \n",
       "30  01F0509S  19.4  Y  2020-01-02 00:01:31+01F0339S; 2020-01-02 00:03...  \n",
       "8   01F0509S  19.4  Y  2020-01-02 00:01:33+01F0339S; 2020-01-02 00:03...  \n",
       "11  01F0509S  19.4  Y  2020-01-02 00:03:02+01F0339S; 2020-01-02 00:05...  \n",
       "36  01F0509S  19.4  Y  2020-01-02 00:03:12+01F0339S; 2020-01-02 00:04...  "
      ],
      "text/html": "<div>\n<style scoped>\n    .dataframe tbody tr th:only-of-type {\n        vertical-align: middle;\n    }\n\n    .dataframe tbody tr th {\n        vertical-align: top;\n    }\n\n    .dataframe thead th {\n        text-align: right;\n    }\n</style>\n<table border=\"1\" class=\"dataframe\">\n  <thead>\n    <tr style=\"text-align: right;\">\n      <th></th>\n      <th>Unnamed: 0</th>\n      <th>0</th>\n      <th>1</th>\n      <th>2</th>\n      <th>3</th>\n      <th>4</th>\n      <th>5</th>\n      <th>6</th>\n      <th>7</th>\n    </tr>\n  </thead>\n  <tbody>\n    <tr>\n      <th>5</th>\n      <td>5</td>\n      <td>31</td>\n      <td>2020-01-02 00:00:22</td>\n      <td>01F0339S</td>\n      <td>2020-01-02 00:12:19</td>\n      <td>01F0509S</td>\n      <td>19.4</td>\n      <td>Y</td>\n      <td>2020-01-02 00:00:22+01F0339S; 2020-01-02 00:03...</td>\n    </tr>\n    <tr>\n      <th>30</th>\n      <td>30</td>\n      <td>31</td>\n      <td>2020-01-02 00:01:31</td>\n      <td>01F0339S</td>\n      <td>2020-01-02 00:11:50</td>\n      <td>01F0509S</td>\n      <td>19.4</td>\n      <td>Y</td>\n      <td>2020-01-02 00:01:31+01F0339S; 2020-01-02 00:03...</td>\n    </tr>\n    <tr>\n      <th>8</th>\n      <td>8</td>\n      <td>31</td>\n      <td>2020-01-02 00:01:33</td>\n      <td>01F0339S</td>\n      <td>2020-01-02 00:10:58</td>\n      <td>01F0509S</td>\n      <td>19.4</td>\n      <td>Y</td>\n      <td>2020-01-02 00:01:33+01F0339S; 2020-01-02 00:03...</td>\n    </tr>\n    <tr>\n      <th>11</th>\n      <td>11</td>\n      <td>42</td>\n      <td>2020-01-02 00:03:02</td>\n      <td>01F0339S</td>\n      <td>2020-01-02 00:12:20</td>\n      <td>01F0509S</td>\n      <td>19.4</td>\n      <td>Y</td>\n      <td>2020-01-02 00:03:02+01F0339S; 2020-01-02 00:05...</td>\n    </tr>\n    <tr>\n      <th>36</th>\n      <td>36</td>\n      <td>31</td>\n      <td>2020-01-02 00:03:12</td>\n      <td>01F0339S</td>\n      <td>2020-01-02 00:10:19</td>\n      <td>01F0509S</td>\n      <td>19.4</td>\n      <td>Y</td>\n      <td>2020-01-02 00:03:12+01F0339S; 2020-01-02 00:04...</td>\n    </tr>\n  </tbody>\n</table>\n</div>"
     },
     "metadata": {},
     "execution_count": 19
    }
   ],
   "source": [
    "df.head()"
   ]
  },
  {
   "cell_type": "code",
   "execution_count": 23,
   "metadata": {},
   "outputs": [],
   "source": [
    "df = df.drop(columns=['Unnamed: 0','0'])"
   ]
  },
  {
   "cell_type": "code",
   "execution_count": 24,
   "metadata": {},
   "outputs": [
    {
     "output_type": "execute_result",
     "data": {
      "text/plain": [
       "                      1         2                    3         4     5  6  \\\n",
       "5   2020-01-02 00:00:22  01F0339S  2020-01-02 00:12:19  01F0509S  19.4  Y   \n",
       "30  2020-01-02 00:01:31  01F0339S  2020-01-02 00:11:50  01F0509S  19.4  Y   \n",
       "8   2020-01-02 00:01:33  01F0339S  2020-01-02 00:10:58  01F0509S  19.4  Y   \n",
       "11  2020-01-02 00:03:02  01F0339S  2020-01-02 00:12:20  01F0509S  19.4  Y   \n",
       "36  2020-01-02 00:03:12  01F0339S  2020-01-02 00:10:19  01F0509S  19.4  Y   \n",
       "\n",
       "                                                    7  \n",
       "5   2020-01-02 00:00:22+01F0339S; 2020-01-02 00:03...  \n",
       "30  2020-01-02 00:01:31+01F0339S; 2020-01-02 00:03...  \n",
       "8   2020-01-02 00:01:33+01F0339S; 2020-01-02 00:03...  \n",
       "11  2020-01-02 00:03:02+01F0339S; 2020-01-02 00:05...  \n",
       "36  2020-01-02 00:03:12+01F0339S; 2020-01-02 00:04...  "
      ],
      "text/html": "<div>\n<style scoped>\n    .dataframe tbody tr th:only-of-type {\n        vertical-align: middle;\n    }\n\n    .dataframe tbody tr th {\n        vertical-align: top;\n    }\n\n    .dataframe thead th {\n        text-align: right;\n    }\n</style>\n<table border=\"1\" class=\"dataframe\">\n  <thead>\n    <tr style=\"text-align: right;\">\n      <th></th>\n      <th>1</th>\n      <th>2</th>\n      <th>3</th>\n      <th>4</th>\n      <th>5</th>\n      <th>6</th>\n      <th>7</th>\n    </tr>\n  </thead>\n  <tbody>\n    <tr>\n      <th>5</th>\n      <td>2020-01-02 00:00:22</td>\n      <td>01F0339S</td>\n      <td>2020-01-02 00:12:19</td>\n      <td>01F0509S</td>\n      <td>19.4</td>\n      <td>Y</td>\n      <td>2020-01-02 00:00:22+01F0339S; 2020-01-02 00:03...</td>\n    </tr>\n    <tr>\n      <th>30</th>\n      <td>2020-01-02 00:01:31</td>\n      <td>01F0339S</td>\n      <td>2020-01-02 00:11:50</td>\n      <td>01F0509S</td>\n      <td>19.4</td>\n      <td>Y</td>\n      <td>2020-01-02 00:01:31+01F0339S; 2020-01-02 00:03...</td>\n    </tr>\n    <tr>\n      <th>8</th>\n      <td>2020-01-02 00:01:33</td>\n      <td>01F0339S</td>\n      <td>2020-01-02 00:10:58</td>\n      <td>01F0509S</td>\n      <td>19.4</td>\n      <td>Y</td>\n      <td>2020-01-02 00:01:33+01F0339S; 2020-01-02 00:03...</td>\n    </tr>\n    <tr>\n      <th>11</th>\n      <td>2020-01-02 00:03:02</td>\n      <td>01F0339S</td>\n      <td>2020-01-02 00:12:20</td>\n      <td>01F0509S</td>\n      <td>19.4</td>\n      <td>Y</td>\n      <td>2020-01-02 00:03:02+01F0339S; 2020-01-02 00:05...</td>\n    </tr>\n    <tr>\n      <th>36</th>\n      <td>2020-01-02 00:03:12</td>\n      <td>01F0339S</td>\n      <td>2020-01-02 00:10:19</td>\n      <td>01F0509S</td>\n      <td>19.4</td>\n      <td>Y</td>\n      <td>2020-01-02 00:03:12+01F0339S; 2020-01-02 00:04...</td>\n    </tr>\n  </tbody>\n</table>\n</div>"
     },
     "metadata": {},
     "execution_count": 24
    }
   ],
   "source": [
    "df.head()"
   ]
  },
  {
   "cell_type": "code",
   "execution_count": 25,
   "metadata": {},
   "outputs": [],
   "source": [
    "df.to_csv('All_Months_2020.csv')"
   ]
  },
  {
   "cell_type": "code",
   "execution_count": null,
   "metadata": {},
   "outputs": [],
   "source": []
  }
 ]
}