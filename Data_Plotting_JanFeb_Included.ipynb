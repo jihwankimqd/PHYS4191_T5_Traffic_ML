{
 "metadata": {
  "language_info": {
   "codemirror_mode": {
    "name": "ipython",
    "version": 3
   },
   "file_extension": ".py",
   "mimetype": "text/x-python",
   "name": "python",
   "nbconvert_exporter": "python",
   "pygments_lexer": "ipython3",
   "version": "3.7.3-final"
  },
  "orig_nbformat": 2,
  "kernelspec": {
   "name": "python3",
   "display_name": "Python 3"
  }
 },
 "nbformat": 4,
 "nbformat_minor": 2,
 "cells": [
  {
   "cell_type": "code",
   "execution_count": 2,
   "metadata": {},
   "outputs": [],
   "source": [
    "import pandas as pd\n",
    "import numpy as np"
   ]
  },
  {
   "cell_type": "code",
   "execution_count": 8,
   "metadata": {},
   "outputs": [],
   "source": [
    "# Each month has ~ 12 million data\n",
    "March_05 = pd.read_csv('Jan_02_FullData.csv')\n",
    "March_12 = pd.read_csv('Jan_09_FullData.csv')\n",
    "March_19 = pd.read_csv('Jan_16_FullData.csv')\n",
    "March_23 = pd.read_csv('Jan_23_FullData.csv')\n",
    "March_26 = pd.read_csv('Jan_30_FullData.csv')\n",
    "\n",
    "April_02 = pd.read_csv('Feb_06_FullData.csv')\n",
    "April_09 = pd.read_csv('Feb_13_FullData.csv')\n",
    "April_16 = pd.read_csv('Feb_20_FullData.csv')\n",
    "April_23 = pd.read_csv('Feb_27_FullData.csv')\n",
    "\n",
    "real_April_02 = pd.read_csv('April_02_FullData.csv')"
   ]
  },
  {
   "cell_type": "code",
   "execution_count": 9,
   "metadata": {},
   "outputs": [],
   "source": [
    "March_05.drop(columns=['Unnamed: 0'],inplace=True)\n",
    "March_12.drop(columns=['Unnamed: 0'],inplace=True)\n",
    "March_19.drop(columns=['Unnamed: 0'],inplace=True)\n",
    "March_23.drop(columns=['Unnamed: 0'],inplace=True)\n",
    "March_26.drop(columns=['Unnamed: 0'],inplace=True)\n",
    "\n",
    "April_02.drop(columns=['Unnamed: 0'],inplace=True)\n",
    "April_09.drop(columns=['Unnamed: 0'],inplace=True)\n",
    "April_16.drop(columns=['Unnamed: 0'],inplace=True)\n",
    "April_23.drop(columns=['Unnamed: 0'],inplace=True)\n",
    "\n",
    "real_April_02.drop(columns=['Unnamed: 0'],inplace=True)"
   ]
  },
  {
   "cell_type": "code",
   "execution_count": 10,
   "metadata": {},
   "outputs": [],
   "source": [
    "# Only interested in data between 01F0339S and 01F0509S. Therefore, filter out irrelevant data.\n",
    "\n",
    "March_05 = March_05[March_05[\"2\"].str.contains(\"339S\", na=False)]\n",
    "March_05 = March_05[March_05[\"4\"].str.contains(\"509S\", na=False)]\n",
    "\n",
    "March_12 = March_12[March_12[\"2\"].str.contains(\"339S\", na=False)]\n",
    "March_12 = March_12[March_12[\"4\"].str.contains(\"509S\", na=False)]\n",
    "\n",
    "March_19 = March_19[March_19[\"2\"].str.contains(\"339S\", na=False)]\n",
    "March_19 = March_19[March_19[\"4\"].str.contains(\"509S\", na=False)]\n",
    "\n",
    "March_23 = March_23[March_23[\"2\"].str.contains(\"339S\", na=False)]\n",
    "March_23 = March_23[March_23[\"4\"].str.contains(\"509S\", na=False)]\n",
    "\n",
    "March_26 = March_26[March_26[\"2\"].str.contains(\"339S\", na=False)]\n",
    "March_26 = March_26[March_26[\"4\"].str.contains(\"509S\", na=False)]\n",
    "\n",
    "\n",
    "April_02 = April_02[April_02[\"2\"].str.contains(\"339S\", na=False)]\n",
    "April_02 = April_02[April_02[\"4\"].str.contains(\"509S\", na=False)]\n",
    "\n",
    "April_09 = April_09[April_09[\"2\"].str.contains(\"339S\", na=False)]\n",
    "April_09 = April_09[April_09[\"4\"].str.contains(\"509S\", na=False)]\n",
    "\n",
    "April_16 = April_16[April_16[\"2\"].str.contains(\"339S\", na=False)]\n",
    "April_16 = April_16[April_16[\"4\"].str.contains(\"509S\", na=False)]\n",
    "\n",
    "April_23 = April_23[April_23[\"2\"].str.contains(\"339S\", na=False)]\n",
    "April_23 = April_23[April_23[\"4\"].str.contains(\"509S\", na=False)]\n",
    "\n",
    "\n",
    "\n",
    "real_April_02 = real_April_02[real_April_02[\"2\"].str.contains(\"339S\", na=False)]\n",
    "real_April_02 = real_April_02[real_April_02[\"4\"].str.contains(\"509S\", na=False)]"
   ]
  },
  {
   "cell_type": "code",
   "execution_count": 13,
   "metadata": {},
   "outputs": [
    {
     "output_type": "execute_result",
     "data": {
      "text/plain": [
       "(26417, 8)"
      ]
     },
     "metadata": {},
     "execution_count": 13
    }
   ],
   "source": [
    "# Combine into one dataframe\n",
    "\n",
    "df = pd.concat([March_05,March_12,March_19,March_23,March_26,April_09,April_16,April_23,real_April_02], ignore_index=True)\n",
    "df.shape"
   ]
  },
  {
   "cell_type": "code",
   "execution_count": 14,
   "metadata": {},
   "outputs": [],
   "source": [
    "# Save the cleaned raw data file as a csv file.\n",
    "\n",
    "df.to_csv('Raw_data_Jan_Feb.csv')"
   ]
  }
 ]
}