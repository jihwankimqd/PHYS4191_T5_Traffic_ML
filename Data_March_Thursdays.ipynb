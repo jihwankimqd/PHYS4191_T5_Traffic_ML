{
 "metadata": {
  "language_info": {
   "codemirror_mode": {
    "name": "ipython",
    "version": 3
   },
   "file_extension": ".py",
   "mimetype": "text/x-python",
   "name": "python",
   "nbconvert_exporter": "python",
   "pygments_lexer": "ipython3",
   "version": "3.7.3-final"
  },
  "orig_nbformat": 2,
  "kernelspec": {
   "name": "python3",
   "display_name": "Python 3"
  }
 },
 "nbformat": 4,
 "nbformat_minor": 2,
 "cells": [
  {
   "cell_type": "code",
   "execution_count": 1,
   "metadata": {},
   "outputs": [],
   "source": [
    "import pandas as pd"
   ]
  },
  {
   "cell_type": "code",
   "execution_count": 17,
   "metadata": {},
   "outputs": [],
   "source": [
    "# Make the individual csv files for each hour into individual dataframes.\n",
    "\n",
    "# Change the \"./March_dd_CSV\" to generalize to different dates.\n",
    "March_Directory = \"./March_26_CSV\"\n",
    "# Similarly, change \"yyyymmdd\" to generalize to different dates.\n",
    "March_Date = \"20200326\"\n",
    "\n",
    "# Format: March_00 ==> March_hh.\n",
    "\n",
    "March_00 = pd.read_csv(str(March_Directory)+\"/TDCS_M06A_\"+str(March_Date)+\"_000000.csv\")\n",
    "March_00 = March_00.T.reset_index(drop=True).T\n",
    "\n",
    "March_01 = pd.read_csv(str(March_Directory)+\"/TDCS_M06A_\"+str(March_Date)+\"_010000.csv\")\n",
    "March_01 = March_01.T.reset_index(drop=True).T\n",
    "\n",
    "March_02 = pd.read_csv(str(March_Directory)+\"/TDCS_M06A_\"+str(March_Date)+\"_020000.csv\")\n",
    "March_02 = March_02.T.reset_index(drop=True).T\n",
    "\n",
    "March_03 = pd.read_csv(str(March_Directory)+\"/TDCS_M06A_\"+str(March_Date)+\"_030000.csv\")\n",
    "March_03 = March_03.T.reset_index(drop=True).T\n",
    "\n",
    "March_04 = pd.read_csv(str(March_Directory)+\"/TDCS_M06A_\"+str(March_Date)+\"_040000.csv\")\n",
    "March_04 = March_04.T.reset_index(drop=True).T\n",
    "\n",
    "March_05 = pd.read_csv(str(March_Directory)+\"/TDCS_M06A_\"+str(March_Date)+\"_050000.csv\")\n",
    "March_05 = March_05.T.reset_index(drop=True).T\n",
    "\n",
    "March_06 = pd.read_csv(str(March_Directory)+\"/TDCS_M06A_\"+str(March_Date)+\"_060000.csv\")\n",
    "March_06 = March_06.T.reset_index(drop=True).T\n",
    "\n",
    "March_07 = pd.read_csv(str(March_Directory)+\"/TDCS_M06A_\"+str(March_Date)+\"_070000.csv\")\n",
    "March_07 = March_07.T.reset_index(drop=True).T\n",
    "\n",
    "March_08 = pd.read_csv(str(March_Directory)+\"/TDCS_M06A_\"+str(March_Date)+\"_080000.csv\")\n",
    "March_08 = March_08.T.reset_index(drop=True).T\n",
    "\n",
    "March_09 = pd.read_csv(str(March_Directory)+\"/TDCS_M06A_\"+str(March_Date)+\"_090000.csv\")\n",
    "March_09 = March_09.T.reset_index(drop=True).T\n",
    "\n",
    "March_10 = pd.read_csv(str(March_Directory)+\"/TDCS_M06A_\"+str(March_Date)+\"_100000.csv\")\n",
    "March_10 = March_10.T.reset_index(drop=True).T\n",
    "\n",
    "March_11 = pd.read_csv(str(March_Directory)+\"/TDCS_M06A_\"+str(March_Date)+\"_110000.csv\")\n",
    "March_11 = March_11.T.reset_index(drop=True).T\n",
    "\n",
    "March_12 = pd.read_csv(str(March_Directory)+\"/TDCS_M06A_\"+str(March_Date)+\"_120000.csv\")\n",
    "March_12 = March_12.T.reset_index(drop=True).T\n",
    "\n",
    "March_13 = pd.read_csv(str(March_Directory)+\"/TDCS_M06A_\"+str(March_Date)+\"_130000.csv\")\n",
    "March_13 = March_13.T.reset_index(drop=True).T\n",
    "\n",
    "March_14 = pd.read_csv(str(March_Directory)+\"/TDCS_M06A_\"+str(March_Date)+\"_140000.csv\")\n",
    "March_14 = March_14.T.reset_index(drop=True).T\n",
    "\n",
    "March_15 = pd.read_csv(str(March_Directory)+\"/TDCS_M06A_\"+str(March_Date)+\"_150000.csv\")\n",
    "March_15 = March_15.T.reset_index(drop=True).T\n",
    "\n",
    "March_16 = pd.read_csv(str(March_Directory)+\"/TDCS_M06A_\"+str(March_Date)+\"_160000.csv\")\n",
    "March_16 = March_16.T.reset_index(drop=True).T\n",
    "\n",
    "March_17 = pd.read_csv(str(March_Directory)+\"/TDCS_M06A_\"+str(March_Date)+\"_170000.csv\")\n",
    "March_17 = March_17.T.reset_index(drop=True).T\n",
    "\n",
    "March_18 = pd.read_csv(str(March_Directory)+\"/TDCS_M06A_\"+str(March_Date)+\"_180000.csv\")\n",
    "March_18 = March_18.T.reset_index(drop=True).T\n",
    "\n",
    "March_19 = pd.read_csv(str(March_Directory)+\"/TDCS_M06A_\"+str(March_Date)+\"_190000.csv\")\n",
    "March_19 = March_19.T.reset_index(drop=True).T\n",
    "\n",
    "March_20 = pd.read_csv(str(March_Directory)+\"/TDCS_M06A_\"+str(March_Date)+\"_200000.csv\")\n",
    "March_20 = March_20.T.reset_index(drop=True).T\n",
    "\n",
    "March_21 = pd.read_csv(str(March_Directory)+\"/TDCS_M06A_\"+str(March_Date)+\"_210000.csv\")\n",
    "March_21 = March_21.T.reset_index(drop=True).T\n",
    "\n",
    "March_22 = pd.read_csv(str(March_Directory)+\"/TDCS_M06A_\"+str(March_Date)+\"_220000.csv\")\n",
    "March_22 = March_22.T.reset_index(drop=True).T\n",
    "\n",
    "March_23 = pd.read_csv(str(March_Directory)+\"/TDCS_M06A_\"+str(March_Date)+\"_230000.csv\")\n",
    "March_23 = March_23.T.reset_index(drop=True).T\n"
   ]
  },
  {
   "cell_type": "code",
   "execution_count": 18,
   "metadata": {},
   "outputs": [
    {
     "output_type": "execute_result",
     "data": {
      "text/plain": [
       "    0                    1         2                    3         4     5  6  \\\n",
       "0  42  2020-03-26 00:24:57  03F1779N  2020-03-26 00:24:57  03F1779N   6.7  Y   \n",
       "1  32  2020-03-26 00:32:01  01F0256N  2020-03-26 00:34:37  01F0213N  10.3  Y   \n",
       "2  31  2020-03-26 00:54:58  01F0376N  2020-03-26 00:57:23  01F0339N   8.4  Y   \n",
       "3  31  2020-03-26 00:53:26  01F3590N  2020-03-26 01:09:28  01F3286N    35  Y   \n",
       "4  31  2020-03-26 00:57:46  01F0248S  2020-03-26 01:11:23  01F0467S  25.9  Y   \n",
       "\n",
       "                                                   7  \n",
       "0                       2020-03-26 00:24:57+03F1779N  \n",
       "1  2020-03-26 00:32:01+01F0256N; 2020-03-26 00:33...  \n",
       "2  2020-03-26 00:54:58+01F0376N; 2020-03-26 00:57...  \n",
       "3  2020-03-26 00:53:26+01F3590N; 2020-03-26 00:55...  \n",
       "4  2020-03-26 00:57:46+01F0248S; 2020-03-26 00:58...  "
      ],
      "text/html": "<div>\n<style scoped>\n    .dataframe tbody tr th:only-of-type {\n        vertical-align: middle;\n    }\n\n    .dataframe tbody tr th {\n        vertical-align: top;\n    }\n\n    .dataframe thead th {\n        text-align: right;\n    }\n</style>\n<table border=\"1\" class=\"dataframe\">\n  <thead>\n    <tr style=\"text-align: right;\">\n      <th></th>\n      <th>0</th>\n      <th>1</th>\n      <th>2</th>\n      <th>3</th>\n      <th>4</th>\n      <th>5</th>\n      <th>6</th>\n      <th>7</th>\n    </tr>\n  </thead>\n  <tbody>\n    <tr>\n      <th>0</th>\n      <td>42</td>\n      <td>2020-03-26 00:24:57</td>\n      <td>03F1779N</td>\n      <td>2020-03-26 00:24:57</td>\n      <td>03F1779N</td>\n      <td>6.7</td>\n      <td>Y</td>\n      <td>2020-03-26 00:24:57+03F1779N</td>\n    </tr>\n    <tr>\n      <th>1</th>\n      <td>32</td>\n      <td>2020-03-26 00:32:01</td>\n      <td>01F0256N</td>\n      <td>2020-03-26 00:34:37</td>\n      <td>01F0213N</td>\n      <td>10.3</td>\n      <td>Y</td>\n      <td>2020-03-26 00:32:01+01F0256N; 2020-03-26 00:33...</td>\n    </tr>\n    <tr>\n      <th>2</th>\n      <td>31</td>\n      <td>2020-03-26 00:54:58</td>\n      <td>01F0376N</td>\n      <td>2020-03-26 00:57:23</td>\n      <td>01F0339N</td>\n      <td>8.4</td>\n      <td>Y</td>\n      <td>2020-03-26 00:54:58+01F0376N; 2020-03-26 00:57...</td>\n    </tr>\n    <tr>\n      <th>3</th>\n      <td>31</td>\n      <td>2020-03-26 00:53:26</td>\n      <td>01F3590N</td>\n      <td>2020-03-26 01:09:28</td>\n      <td>01F3286N</td>\n      <td>35</td>\n      <td>Y</td>\n      <td>2020-03-26 00:53:26+01F3590N; 2020-03-26 00:55...</td>\n    </tr>\n    <tr>\n      <th>4</th>\n      <td>31</td>\n      <td>2020-03-26 00:57:46</td>\n      <td>01F0248S</td>\n      <td>2020-03-26 01:11:23</td>\n      <td>01F0467S</td>\n      <td>25.9</td>\n      <td>Y</td>\n      <td>2020-03-26 00:57:46+01F0248S; 2020-03-26 00:58...</td>\n    </tr>\n  </tbody>\n</table>\n</div>"
     },
     "metadata": {},
     "execution_count": 18
    }
   ],
   "source": [
    "March_00.head()"
   ]
  },
  {
   "cell_type": "code",
   "execution_count": 19,
   "metadata": {},
   "outputs": [],
   "source": [
    "# df represents the combined dataframe for the selected date.\n",
    "\n",
    "df = pd.concat([March_00,March_01, March_02, March_03, March_04, March_05, March_06, March_07, March_08, March_09, March_10, March_11, March_12, March_13, March_14, March_15, March_16, March_17, March_18, March_19, March_20, March_21, March_22, March_23], ignore_index=True)"
   ]
  },
  {
   "cell_type": "code",
   "execution_count": 20,
   "metadata": {},
   "outputs": [
    {
     "output_type": "execute_result",
     "data": {
      "text/plain": [
       "(3088234, 8)"
      ]
     },
     "metadata": {},
     "execution_count": 20
    }
   ],
   "source": [
    "# Check if the dataframe combined successfully.\n",
    "\n",
    "df.shape"
   ]
  },
  {
   "cell_type": "code",
   "execution_count": 21,
   "metadata": {},
   "outputs": [],
   "source": [
    "# Export as csv\n",
    "\n",
    "# Change File_Name 'March_dd' to generalize to different dates.\n",
    "File_Name = 'March_26'\n",
    "df.to_csv(str(File_Name)+'_FullData.csv')"
   ]
  },
  {
   "cell_type": "code",
   "execution_count": null,
   "metadata": {},
   "outputs": [],
   "source": []
  }
 ]
}